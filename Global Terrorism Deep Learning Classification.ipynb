{
 "cells": [
  {
   "cell_type": "code",
   "execution_count": 1,
   "metadata": {},
   "outputs": [
    {
     "name": "stderr",
     "output_type": "stream",
     "text": [
      "Using TensorFlow backend.\n"
     ]
    }
   ],
   "source": [
    "from functools import reduce\n",
    "\n",
    "import pandas as pd\n",
    "import numpy as np\n",
    "import matplotlib.pyplot as plt\n",
    "import seaborn as sns\n",
    "\n",
    "from sklearn.preprocessing import MinMaxScaler\n",
    "from sklearn.model_selection import train_test_split\n",
    "from sklearn.manifold import TSNE\n",
    "from sklearn.metrics import classification_report\n",
    "from scipy.stats.mstats import winsorize\n",
    "import keras\n",
    "from keras.layers import Dense\n",
    "from keras.models import Sequential\n",
    "from keras.callbacks import EarlyStopping"
   ]
  },
  {
   "cell_type": "code",
   "execution_count": 22,
   "metadata": {},
   "outputs": [
    {
     "data": {
      "text/plain": [
       "\"\\nA deep learning neural network is used to classify terrorist attacks between 1970-2017 with \\nunknown terrorist group affiliations. The model is trained on data provided by the Global \\nTerrorism Database. The feature space includes categorical variables such as type of weapon used, \\nvictim type, suicide attacks, as well as numerical variables such as hostages taken, number of \\nattackers, and number of fatalities. \\n\\nThe model's two most frequent classifications are the Maoists and Taliban. In particular,\\nthe results of the model suggest that the number of Maoist attacks is significantly underreported in \\nthe Global Terrorism Database (from 1630 reported attacks to model estimated of 4856 attacks).\\nThe model also attributes an additional 2580 attacks to the Taliban.\\n\\nOverall, the model seems to perform reasonably well with average precision and recall on the validation\\nset at approximately 76.3%. In other words, the model correctly classifies terrorist groups about 76.3%\\nof the time.\\n\\n-Adam Wu\\n\\nData:\\nNational Consortium for the Study of Terrorism and Responses to Terrorism (START). (2018). \\nGlobal Terrorism Database [Data file]. Retrieved from https://www.start.umd.edu/gtd\\n\""
      ]
     },
     "execution_count": 22,
     "metadata": {},
     "output_type": "execute_result"
    }
   ],
   "source": [
    "\"\"\"\n",
    "A deep learning neural network is used to classify terrorist attacks between 1970-2017 with \n",
    "unknown terrorist group affiliations. The model is trained on data provided by the Global \n",
    "Terrorism Database. The feature space includes categorical variables such as type of weapon used, \n",
    "victim type, suicide attacks, as well as numerical variables such as hostages taken, number of \n",
    "attackers, and number of fatalities. \n",
    "\n",
    "The model's two most frequent classifications are the Maoists and Taliban. In particular,\n",
    "the results of the model suggest that the number of Maoist attacks is significantly underreported in \n",
    "the Global Terrorism Database (from 1630 reported attacks to model estimated of 4856 attacks).\n",
    "The model also attributes an additional 2580 attacks to the Taliban.\n",
    "\n",
    "Overall, the model seems to perform reasonably well with average precision and recall on the validation\n",
    "set at approximately 76.3%. In other words, the model correctly classifies terrorist groups about 76.3%\n",
    "of the time.\n",
    "\n",
    "-Adam W\n",
    "\n",
    "Data:\n",
    "National Consortium for the Study of Terrorism and Responses to Terrorism (START). (2018). \n",
    "Global Terrorism Database [Data file]. Retrieved from https://www.start.umd.edu/gtd\n",
    "\"\"\""
   ]
  },
  {
   "cell_type": "code",
   "execution_count": 3,
   "metadata": {},
   "outputs": [
    {
     "name": "stderr",
     "output_type": "stream",
     "text": [
      "C:\\Development\\Python\\Anaconda\\lib\\site-packages\\IPython\\core\\interactiveshell.py:3020: DtypeWarning: Columns (4,6,31,33,61,62,63,76,79,90,92,94,96,114,115,121) have mixed types. Specify dtype option on import or set low_memory=False.\n",
      "  interactivity=interactivity, compiler=compiler, result=result)\n"
     ]
    }
   ],
   "source": [
    "# Reads the data and sets the index to 'eventid'. Missing values are encoded as -9,-99 \n",
    "# according to database codebook.\n",
    "df = pd.read_csv('Data/globalterrorismdb_0718dist.csv', header=0, na_values = ['-9','-99']).set_index('eventid')\n"
   ]
  },
  {
   "cell_type": "code",
   "execution_count": 4,
   "metadata": {},
   "outputs": [],
   "source": [
    "# There are lots of missing data in the dataset and some variables only started \n",
    "# recording in 1997. Dropping all NaNs would result in significant loss of data, \n",
    "# so it maybe better to impute missing values and do some feature reduction.\n",
    "\n",
    "# However, for variables with significant amount of NaNs, imputing/aggregation \n",
    "# may impose unrealistic assumptions about the distributions of the variables and \n",
    "# introduce bias. So variables with over 75% values NaN are excluded.\n",
    "pct_na = df.isna().sum()/len(df)\n",
    "ext_na = pct_na[~(pct_na > 0.75)]\n",
    "df = df.loc[:,ext_na.index.values]\n",
    "\n",
    "# For categorical variables, impute NaN with most common value (mode)\n",
    "cat = df.select_dtypes('int64')\n",
    "cat = cat.fillna(cat.mode())\n",
    "\n",
    "# For numerical variables, impute NaN with the mean. Since the mean is sensitive \n",
    "# to large values, winsorize (1%) to limit the effect of extreme outliers\n",
    "num = df.select_dtypes('float64')\n",
    "num_no_nan = num.dropna()\n",
    "num_winsor = winsorize(num_no_nan, limits = [0.01, 0.01])\n",
    "num_mean = pd.DataFrame(num_winsor, index = num_no_nan.index, columns = num_no_nan.columns).mean()\n",
    "num = num.fillna(num_mean)\n",
    "num = pd.DataFrame(winsorize(num, limits = [0.01, 0.01]), index = num.index, columns = num.columns)\n",
    "\n"
   ]
  },
  {
   "cell_type": "code",
   "execution_count": 5,
   "metadata": {},
   "outputs": [],
   "source": [
    "# The model will be trained on a mixed feature space with both categorical \n",
    "# and numerical variables. Normalizing the feature variances may be useful and \n",
    "# make the model more robust.\n",
    "\n",
    "# Since categorical variables have varied scaling (1-k), they are split into k-vectors \n",
    "# with binary components. In other words, N categorical variables with ranges of \n",
    "# (k_1,...,k_N) are projected onto an N*k-dimensional space with unit norm.\n",
    "cat_list = []\n",
    "for col in cat:\n",
    "    cat_list.append(pd.get_dummies(cat[col], prefix=str(col)))\n",
    "\n",
    "cat_df = reduce(lambda x,y: pd.merge(x,y,on='eventid'), cat_list)\n",
    "\n",
    "# Numerical variables are normalized to [0,1] so that they have similar scaling \n",
    "# with the categorical variables\n",
    "num_scaled = (num - num.min(axis=0))/(num.max(axis=0) - num.min(axis=0))\n",
    "num_df = pd.DataFrame(num_scaled, index = num.index, columns = num.columns)\n",
    "\n",
    "df_clean = cat_df.merge(num_df, how='inner', on='eventid')"
   ]
  },
  {
   "cell_type": "code",
   "execution_count": 6,
   "metadata": {},
   "outputs": [],
   "source": [
    "# Indices of attacks with unknown terrorist affiliations. These are the attacks \n",
    "# that will be classified and predicted by the model.\n",
    "unknown = df[df['gname']=='Unknown'].index.values\n",
    "\n",
    "# Processed dataset of unknown attacks to classify\n",
    "X_to_classify = df_clean.loc[unknown,:]\n",
    "\n",
    "# Processed dataset of known attacks to train/test the model\n",
    "X_model = df_clean.drop(labels=unknown, axis=0)"
   ]
  },
  {
   "cell_type": "code",
   "execution_count": 7,
   "metadata": {},
   "outputs": [],
   "source": [
    "# Converts terrorist group names into dummy variables\n",
    "terrorist_groups = df.loc[:,'gname']\n",
    "terrorist_groups_dummy = pd.get_dummies(terrorist_groups)\n",
    "\n",
    "# Unknown terrorist groups (in dummy form) to classify\n",
    "Y_to_classify = terrorist_groups_dummy.loc[unknown,:]\n",
    "\n",
    "# Known terrorist groups (in dummy form) to train/test the model\n",
    "Y_model = terrorist_groups_dummy.drop(labels=unknown, axis=0)"
   ]
  },
  {
   "cell_type": "code",
   "execution_count": 8,
   "metadata": {},
   "outputs": [],
   "source": [
    "# Split data into train/test sets\n",
    "X_train, X_test, Y_train, Y_test = train_test_split(X_model, Y_model, test_size=0.2, random_state=7)"
   ]
  },
  {
   "cell_type": "code",
   "execution_count": 9,
   "metadata": {},
   "outputs": [
    {
     "name": "stdout",
     "output_type": "stream",
     "text": [
      "Train on 63301 samples, validate on 15826 samples\n",
      "Epoch 1/20\n",
      "63301/63301 [==============================] - 60s 941us/step - loss: 2.5469 - acc: 0.5694 - val_loss: 1.8438 - val_acc: 0.6666\n",
      "Epoch 2/20\n",
      "63301/63301 [==============================] - 61s 967us/step - loss: 1.5013 - acc: 0.7028 - val_loss: 1.5244 - val_acc: 0.7184\n",
      "Epoch 3/20\n",
      "63301/63301 [==============================] - 60s 948us/step - loss: 1.2005 - acc: 0.7394 - val_loss: 1.3919 - val_acc: 0.7384\n",
      "Epoch 4/20\n",
      "63301/63301 [==============================] - 60s 945us/step - loss: 1.0234 - acc: 0.7638 - val_loss: 1.3383 - val_acc: 0.7500\n",
      "Epoch 5/20\n",
      "63301/63301 [==============================] - 62s 986us/step - loss: 0.8968 - acc: 0.7821 - val_loss: 1.3223 - val_acc: 0.7524\n",
      "Epoch 6/20\n",
      "63301/63301 [==============================] - 61s 969us/step - loss: 0.8008 - acc: 0.7989 - val_loss: 1.3131 - val_acc: 0.7560\n",
      "Epoch 7/20\n",
      "63301/63301 [==============================] - 60s 950us/step - loss: 0.7178 - acc: 0.8152 - val_loss: 1.3118 - val_acc: 0.7572\n",
      "Epoch 8/20\n",
      "63301/63301 [==============================] - 74s 1ms/step - loss: 0.6485 - acc: 0.8308 - val_loss: 1.3324 - val_acc: 0.7630\n",
      "Epoch 9/20\n",
      "63301/63301 [==============================] - 83s 1ms/step - loss: 0.5869 - acc: 0.8464 - val_loss: 1.3648 - val_acc: 0.7649\n",
      "Epoch 10/20\n",
      "63301/63301 [==============================] - 83s 1ms/step - loss: 0.5416 - acc: 0.8586 - val_loss: 1.4176 - val_acc: 0.7627\n"
     ]
    },
    {
     "data": {
      "text/plain": [
       "<keras.callbacks.History at 0x2da8a641908>"
      ]
     },
     "execution_count": 9,
     "metadata": {},
     "output_type": "execute_result"
    }
   ],
   "source": [
    "# As the ultimate goal is to make predictions on terrorist group affiliations, \n",
    "# this is a classification problem. Thus, a multi-layer neural network could be \n",
    "# effective in capturing the complex and potential non-linear interactions \n",
    "# between the variables in the feature space. The activation function used is the \n",
    "# rectified linear unit, though the logistic sigmoid and hypolic tangent were tested \n",
    "# but do not demonstrate consistently better model performance.\n",
    "\n",
    "# Dimension of feature space\n",
    "n_features = X_model.shape[1]\n",
    "n_groups = Y_model.shape[1]\n",
    "\n",
    "# Sets up a sequential neural network\n",
    "model = Sequential()\n",
    "\n",
    "# Input Layer\n",
    "model.add(Dense(n_features, activation='relu', input_shape=(n_features,)))\n",
    "\n",
    "# Hidden Layers\n",
    "model.add(Dense(150, activation='relu'))\n",
    "model.add(Dense(100, activation='relu'))\n",
    "\n",
    "# Output Layer. Activation function is softmax so it returns bounded values \n",
    "# (probabilities) for classification.\n",
    "model.add(Dense(n_groups, activation='softmax'))\n",
    "\n",
    "# Compilation\n",
    "model.compile(\n",
    "            optimizer='adam',\n",
    "            loss='categorical_crossentropy',\n",
    "            metrics=['accuracy']\n",
    ")\n",
    "\n",
    "# Stop the training process early if performance does not improve \n",
    "early_stop = EarlyStopping(patience=3)\n",
    "\n",
    "# Fit the model\n",
    "model.fit(X_train, Y_train,\n",
    "          epochs=20,\n",
    "          validation_split=0.2,\n",
    "          callbacks=[early_stop,]\n",
    "         )\n"
   ]
  },
  {
   "cell_type": "code",
   "execution_count": 10,
   "metadata": {},
   "outputs": [],
   "source": [
    "# Model predictions on test set\n",
    "test_predictions = model.predict(X_test)\n",
    "\n",
    "predict_df = pd.DataFrame(test_predictions, index=X_test.index)"
   ]
  },
  {
   "cell_type": "code",
   "execution_count": 11,
   "metadata": {},
   "outputs": [
    {
     "name": "stdout",
     "output_type": "stream",
     "text": [
      "                 Precision   Recall  F1-Score\n",
      "MicroAverage      0.763270  0.76327  0.763270\n",
      "WeightedAverage   0.741179  0.76327  0.742737\n"
     ]
    },
    {
     "name": "stderr",
     "output_type": "stream",
     "text": [
      "C:\\Development\\Python\\Anaconda\\lib\\site-packages\\sklearn\\metrics\\classification.py:1143: UndefinedMetricWarning: Precision and F-score are ill-defined and being set to 0.0 in labels with no predicted samples.\n",
      "  'precision', 'predicted', average, warn_for)\n",
      "C:\\Development\\Python\\Anaconda\\lib\\site-packages\\sklearn\\metrics\\classification.py:1145: UndefinedMetricWarning: Recall and F-score are ill-defined and being set to 0.0 in labels with no true samples.\n",
      "  'recall', 'true', average, warn_for)\n",
      "C:\\Development\\Python\\Anaconda\\lib\\site-packages\\sklearn\\metrics\\classification.py:1143: UndefinedMetricWarning: Precision and F-score are ill-defined and being set to 0.0 in labels with no predicted samples.\n",
      "  'precision', 'predicted', average, warn_for)\n",
      "C:\\Development\\Python\\Anaconda\\lib\\site-packages\\sklearn\\metrics\\classification.py:1145: UndefinedMetricWarning: Recall and F-score are ill-defined and being set to 0.0 in labels with no true samples.\n",
      "  'recall', 'true', average, warn_for)\n",
      "C:\\Development\\Python\\Anaconda\\lib\\site-packages\\sklearn\\metrics\\classification.py:1143: UndefinedMetricWarning: Precision and F-score are ill-defined and being set to 0.0 in labels with no predicted samples.\n",
      "  'precision', 'predicted', average, warn_for)\n",
      "C:\\Development\\Python\\Anaconda\\lib\\site-packages\\sklearn\\metrics\\classification.py:1145: UndefinedMetricWarning: Recall and F-score are ill-defined and being set to 0.0 in labels with no true samples.\n",
      "  'recall', 'true', average, warn_for)\n"
     ]
    }
   ],
   "source": [
    "# Model evaluation against test set\n",
    "\n",
    "# Since output is probabilities, sets most likely group prediction to 1, rest 0\n",
    "predict_grouped = predict_df.where(predict_df!=0).rank(1, ascending=False, method='dense').eq(1).astype(int)\n",
    "predict_grouped.columns = Y_test.columns\n",
    "\n",
    "# Returns classification metrics to evaluate the model\n",
    "report = classification_report(Y_test, predict_grouped, target_names=Y_test.columns, output_dict=True)\n",
    "\n",
    "model_performance = report['micro avg'], report['weighted avg']\n",
    "\n",
    "model_perf_summary = pd.DataFrame({\n",
    "                    'Precision': [model_performance[0]['precision'], model_performance[1]['precision']],\n",
    "                    'Recall': [model_performance[0]['recall'], model_performance[1]['recall']],\n",
    "                    'F1-Score': [model_performance[0]['f1-score'], model_performance[1]['f1-score']]\n",
    "}, index = ['MicroAverage','WeightedAverage']\n",
    ")\n",
    "\n",
    "print(model_perf_summary)"
   ]
  },
  {
   "cell_type": "code",
   "execution_count": 12,
   "metadata": {},
   "outputs": [],
   "source": [
    "# The model seems to perform fairly well on the test set. The final steps are to\n",
    "# make predictions for the unknown attacks.\n",
    "\n",
    "new_predictions = model.predict(X_to_classify)\n",
    "\n",
    "new_df = pd.DataFrame(new_predictions, index=X_to_classify.index)\n",
    "\n",
    "new_predict_grouped = new_df.where(new_df!=0).rank(1, ascending=False, method='dense').eq(1).astype(int)\n",
    "new_predict_grouped.columns = Y_to_classify.columns"
   ]
  },
  {
   "cell_type": "code",
   "execution_count": 15,
   "metadata": {},
   "outputs": [
    {
     "data": {
      "text/html": [
       "<div>\n",
       "<style scoped>\n",
       "    .dataframe tbody tr th:only-of-type {\n",
       "        vertical-align: middle;\n",
       "    }\n",
       "\n",
       "    .dataframe tbody tr th {\n",
       "        vertical-align: top;\n",
       "    }\n",
       "\n",
       "    .dataframe thead th {\n",
       "        text-align: right;\n",
       "    }\n",
       "</style>\n",
       "<table border=\"1\" class=\"dataframe\">\n",
       "  <thead>\n",
       "    <tr style=\"text-align: right;\">\n",
       "      <th></th>\n",
       "      <th>Predicted Terrorist Group Affiliation</th>\n",
       "    </tr>\n",
       "    <tr>\n",
       "      <th>eventid</th>\n",
       "      <th></th>\n",
       "    </tr>\n",
       "  </thead>\n",
       "  <tbody>\n",
       "    <tr>\n",
       "      <th>199601260008</th>\n",
       "      <td>Muslim Militants</td>\n",
       "    </tr>\n",
       "    <tr>\n",
       "      <th>199711110010</th>\n",
       "      <td>November 17 Revolutionary Organization (N17RO)</td>\n",
       "    </tr>\n",
       "    <tr>\n",
       "      <th>201309140037</th>\n",
       "      <td>Tribesmen</td>\n",
       "    </tr>\n",
       "    <tr>\n",
       "      <th>197804180001</th>\n",
       "      <td>23rd of September Communist League</td>\n",
       "    </tr>\n",
       "    <tr>\n",
       "      <th>200108290020</th>\n",
       "      <td>National Liberation Army (NLA) (Macedonia)</td>\n",
       "    </tr>\n",
       "    <tr>\n",
       "      <th>199109070007</th>\n",
       "      <td>Muslim Separatists</td>\n",
       "    </tr>\n",
       "    <tr>\n",
       "      <th>198708020005</th>\n",
       "      <td>Terrorists</td>\n",
       "    </tr>\n",
       "    <tr>\n",
       "      <th>201302040029</th>\n",
       "      <td>Muslim extremists</td>\n",
       "    </tr>\n",
       "    <tr>\n",
       "      <th>201203310025</th>\n",
       "      <td>Tribesmen</td>\n",
       "    </tr>\n",
       "    <tr>\n",
       "      <th>200610180004</th>\n",
       "      <td>Muslim extremists</td>\n",
       "    </tr>\n",
       "    <tr>\n",
       "      <th>201408140079</th>\n",
       "      <td>Tribesmen</td>\n",
       "    </tr>\n",
       "    <tr>\n",
       "      <th>201606260027</th>\n",
       "      <td>Muslim extremists</td>\n",
       "    </tr>\n",
       "    <tr>\n",
       "      <th>201701150056</th>\n",
       "      <td>Liberation Tigers of Tamil Eelam (LTTE)</td>\n",
       "    </tr>\n",
       "    <tr>\n",
       "      <th>200705200007</th>\n",
       "      <td>Muslim extremists</td>\n",
       "    </tr>\n",
       "    <tr>\n",
       "      <th>199508310008</th>\n",
       "      <td>Christian extremists</td>\n",
       "    </tr>\n",
       "    <tr>\n",
       "      <th>201405220003</th>\n",
       "      <td>Separatists</td>\n",
       "    </tr>\n",
       "    <tr>\n",
       "      <th>201102130011</th>\n",
       "      <td>Sunni Muslim extremists</td>\n",
       "    </tr>\n",
       "    <tr>\n",
       "      <th>201412290032</th>\n",
       "      <td>Muslim extremists</td>\n",
       "    </tr>\n",
       "    <tr>\n",
       "      <th>201305080003</th>\n",
       "      <td>Sunni Muslim extremists</td>\n",
       "    </tr>\n",
       "    <tr>\n",
       "      <th>201403030048</th>\n",
       "      <td>Muslim extremists</td>\n",
       "    </tr>\n",
       "  </tbody>\n",
       "</table>\n",
       "</div>"
      ],
      "text/plain": [
       "                       Predicted Terrorist Group Affiliation\n",
       "eventid                                                     \n",
       "199601260008                                Muslim Militants\n",
       "199711110010  November 17 Revolutionary Organization (N17RO)\n",
       "201309140037                                       Tribesmen\n",
       "197804180001              23rd of September Communist League\n",
       "200108290020      National Liberation Army (NLA) (Macedonia)\n",
       "199109070007                              Muslim Separatists\n",
       "198708020005                                      Terrorists\n",
       "201302040029                               Muslim extremists\n",
       "201203310025                                       Tribesmen\n",
       "200610180004                               Muslim extremists\n",
       "201408140079                                       Tribesmen\n",
       "201606260027                               Muslim extremists\n",
       "201701150056         Liberation Tigers of Tamil Eelam (LTTE)\n",
       "200705200007                               Muslim extremists\n",
       "199508310008                            Christian extremists\n",
       "201405220003                                     Separatists\n",
       "201102130011                         Sunni Muslim extremists\n",
       "201412290032                               Muslim extremists\n",
       "201305080003                         Sunni Muslim extremists\n",
       "201403030048                               Muslim extremists"
      ]
     },
     "execution_count": 15,
     "metadata": {},
     "output_type": "execute_result"
    }
   ],
   "source": [
    "# Predictions for the unknown terrorist group affiliations\n",
    "\n",
    "# Makes predictions for terrorist group affiliation based on maximum probability\n",
    "new_groups = new_df.idxmax(axis=1)\n",
    "\n",
    "reconstruct_group = []\n",
    "for row in new_groups:\n",
    "    reconstruct_group.append(terrorist_groups_dummy.columns[row])\n",
    "    \n",
    "model_predictions = pd.DataFrame(reconstruct_group, index=new_groups.index)\n",
    "model_predictions.columns = ['Predicted Terrorist Group Affiliation']\n",
    "\n",
    "model_predictions.sample(20)"
   ]
  },
  {
   "cell_type": "code",
   "execution_count": 14,
   "metadata": {},
   "outputs": [
    {
     "data": {
      "image/png": "[encoded data removed]",
      "text/plain": [
       "<Figure size 432x288 with 1 Axes>"
      ]
     },
     "metadata": {
      "needs_background": "light"
     },
     "output_type": "display_data"
    }
   ],
   "source": [
    "# Visualization of the results\n",
    "\n",
    "# Sum of attack counts for original dataset\n",
    "original_sums = Y_model.sum(axis=0)\n",
    "\n",
    "# Sum of attack counts for ML classified dataset \n",
    "full_df = pd.concat([Y_model, new_predict_grouped], axis=0, join='outer')\n",
    "full_sums = full_df.sum(axis=0)\n",
    "\n",
    "# Plot of 20 most active terrorist groups\n",
    "most_attacks = original_sums.nlargest(20)\n",
    "\n",
    "most_attacks_model = full_sums[most_attacks.index]\n",
    "model_diff = most_attacks_model - most_attacks\n",
    "\n",
    "attacks_df = pd.concat([most_attacks,model_diff], axis=1)\n",
    "attacks_df.columns = ['Global Terrorism Database', 'GTD with Deep Learning']\n",
    "attacks_df.plot.bar(stacked=True)\n",
    "\n",
    "plt.title('Most Active Terrorist Groups')\n",
    "plt.ylabel('Number of Attacks')\n",
    "plt.xlabel('Terrorist Group')\n",
    "plt.show()"
   ]
  },
  {
   "cell_type": "code",
   "execution_count": 16,
   "metadata": {},
   "outputs": [
    {
     "data": {
      "text/plain": [
       "Maoists                            3226\n",
       "Taliban                            2580\n",
       "Tehrik-i-Taliban Pakistan (TTP)     967\n",
       "Al-Shabaab                          482\n",
       "New People's Army (NPA)             446\n",
       "dtype: int64"
      ]
     },
     "execution_count": 16,
     "metadata": {},
     "output_type": "execute_result"
    }
   ],
   "source": [
    "# Most frequent classifications made by model\n",
    "model_diff.nlargest(5)"
   ]
  },
  {
   "cell_type": "code",
   "execution_count": null,
   "metadata": {},
   "outputs": [],
   "source": []
  }
 ],
 "metadata": {
  "kernelspec": {
   "display_name": "Python 3",
   "language": "python",
   "name": "python3"
  },
  "language_info": {
   "codemirror_mode": {
    "name": "ipython",
    "version": 3
   },
   "file_extension": ".py",
   "mimetype": "text/x-python",
   "name": "python",
   "nbconvert_exporter": "python",
   "pygments_lexer": "ipython3",
   "version": "3.6.7"
  }
 },
 "nbformat": 4,
 "nbformat_minor": 2
}
